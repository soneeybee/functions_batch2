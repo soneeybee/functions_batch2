{
  "nbformat": 4,
  "nbformat_minor": 0,
  "metadata": {
    "colab": {
      "provenance": []
    },
    "kernelspec": {
      "name": "python3",
      "display_name": "Python 3"
    },
    "language_info": {
      "name": "python"
    }
  },
  "cells": [
    {
      "cell_type": "code",
      "execution_count": null,
      "metadata": {
        "colab": {
          "base_uri": "https://localhost:8080/"
        },
        "id": "hv6B97CNqmr0",
        "outputId": "38152ce7-77d7-43a6-af89-9cfc94c7eea7"
      },
      "outputs": [
        {
          "output_type": "stream",
          "name": "stdout",
          "text": [
            "<function <lambda> at 0x7f6e84c36c20>\n"
          ]
        }
      ],
      "source": [
        " #def func(argum)\n",
        " s = lambda a : a * a\n",
        " print(s)"
      ]
    },
    {
      "cell_type": "code",
      "source": [
        "print(s(5))"
      ],
      "metadata": {
        "colab": {
          "base_uri": "https://localhost:8080/"
        },
        "id": "dnRQJH7S6uLI",
        "outputId": "ec5c74e5-3af6-4516-bd4a-49021c9414b3"
      },
      "execution_count": null,
      "outputs": [
        {
          "output_type": "stream",
          "name": "stdout",
          "text": [
            "25\n"
          ]
        }
      ]
    },
    {
      "cell_type": "code",
      "source": [
        "def sqr(a):\n",
        "  a = a* a\n",
        "  print(a)"
      ],
      "metadata": {
        "id": "S101fiZl6OmR"
      },
      "execution_count": null,
      "outputs": []
    },
    {
      "cell_type": "code",
      "source": [
        "sqr(5)"
      ],
      "metadata": {
        "colab": {
          "base_uri": "https://localhost:8080/"
        },
        "id": "rO5Lao0p6bR6",
        "outputId": "b1bde393-d03c-4d52-d204-744371af0d67"
      },
      "execution_count": null,
      "outputs": [
        {
          "output_type": "stream",
          "name": "stdout",
          "text": [
            "25\n"
          ]
        }
      ]
    },
    {
      "cell_type": "code",
      "source": [
        "def cube(x):\n",
        "  g = x * x * x\n",
        "  print(g)"
      ],
      "metadata": {
        "id": "-I2e1yxe648g"
      },
      "execution_count": null,
      "outputs": []
    },
    {
      "cell_type": "code",
      "source": [
        "t = lambda j: j*j*j\n",
        "print(t(3))"
      ],
      "metadata": {
        "colab": {
          "base_uri": "https://localhost:8080/"
        },
        "id": "9ZJ4LmaT7TsW",
        "outputId": "25dd984a-002e-4bfe-8402-77c54f6636e5"
      },
      "execution_count": null,
      "outputs": [
        {
          "output_type": "stream",
          "name": "stdout",
          "text": [
            "27\n"
          ]
        }
      ]
    },
    {
      "cell_type": "code",
      "source": [
        "#reduction functions : filter , map, reduce"
      ],
      "metadata": {
        "id": "4m-a8Kpa7rCP"
      },
      "execution_count": null,
      "outputs": []
    },
    {
      "cell_type": "code",
      "source": [
        "stu_marklist = [98,97,96,95,45,68,90]\n",
        "toppers = list(filter ( lambda a: (a >= 85),stu_marklist))\n",
        "print(toppers)"
      ],
      "metadata": {
        "colab": {
          "base_uri": "https://localhost:8080/"
        },
        "id": "WotfrWSB8T-F",
        "outputId": "4f177f15-8cff-4e1a-81a0-818127c60f91"
      },
      "execution_count": null,
      "outputs": [
        {
          "output_type": "stream",
          "name": "stdout",
          "text": [
            "[98, 97, 96, 95, 90]\n"
          ]
        }
      ]
    },
    {
      "cell_type": "code",
      "source": [
        "secondclass = list(map(lambda b : (b <60),stu_marklist))\n",
        "print(secondclass)"
      ],
      "metadata": {
        "colab": {
          "base_uri": "https://localhost:8080/"
        },
        "id": "3kP4y1wh9Kq3",
        "outputId": "c5e5b517-520d-487c-f3c6-dae9275b7cb5"
      },
      "execution_count": null,
      "outputs": [
        {
          "output_type": "stream",
          "name": "stdout",
          "text": [
            "[False, False, False, False, True, False, False]\n"
          ]
        }
      ]
    },
    {
      "cell_type": "code",
      "source": [
        "girls = [ 'sasi','soniya','indu','gayu','kayal']\n",
        "upp_girls = list(map(lambda s : s.upper(),girls))\n",
        "print(upp_girls)"
      ],
      "metadata": {
        "colab": {
          "base_uri": "https://localhost:8080/"
        },
        "id": "kF0a7F6i-y84",
        "outputId": "4acf60f3-df8a-4674-8a97-ab2bbaaa6da0"
      },
      "execution_count": null,
      "outputs": [
        {
          "output_type": "stream",
          "name": "stdout",
          "text": [
            "['SASI', 'SONIYA', 'INDU', 'GAYU', 'KAYAL']\n"
          ]
        }
      ]
    },
    {
      "cell_type": "code",
      "source": [
        "from functools import reduce  #functools\n",
        "g2 = reduce((lambda  i,j : i+j),stu_marklist)\n",
        "print(g2)"
      ],
      "metadata": {
        "colab": {
          "base_uri": "https://localhost:8080/"
        },
        "id": "1rSmWh8U_tPi",
        "outputId": "600dd275-3055-4882-981a-d299ba3596a3"
      },
      "execution_count": null,
      "outputs": [
        {
          "output_type": "stream",
          "name": "stdout",
          "text": [
            "589\n"
          ]
        }
      ]
    },
    {
      "cell_type": "code",
      "source": [
        "nums = [1, 2, 3, 4]\n",
        "ans = reduce(lambda x, y: x + y, nums)\n",
        "print(ans)"
      ],
      "metadata": {
        "id": "DkxLbjozBFQG",
        "colab": {
          "base_uri": "https://localhost:8080/"
        },
        "outputId": "1db6327c-cf4e-4d7f-c08d-22dbcdb6d877"
      },
      "execution_count": null,
      "outputs": [
        {
          "output_type": "stream",
          "name": "stdout",
          "text": [
            "10\n"
          ]
        }
      ]
    },
    {
      "cell_type": "code",
      "source": [
        "def product(x,y):\n",
        "    return x*y\n",
        "\n",
        "ans = reduce(product, [2, 5, 3, 7])\n",
        "print(ans)"
      ],
      "metadata": {
        "colab": {
          "base_uri": "https://localhost:8080/"
        },
        "id": "AGDdJwC-Hd7x",
        "outputId": "80a817b0-6c96-4828-8607-a0040aef1927"
      },
      "execution_count": null,
      "outputs": [
        {
          "output_type": "stream",
          "name": "stdout",
          "text": [
            "210\n"
          ]
        }
      ]
    },
    {
      "cell_type": "code",
      "source": [
        "def mini(a, b):\n",
        "    return a if a < b else b\n",
        "\n",
        "def maxi(a, b):\n",
        "    return a if a > b else b\n",
        "\n",
        "\n",
        "nums = [3, 5, 2, 4, 7, 1]"
      ],
      "metadata": {
        "id": "T0A7s0L7Hpzh"
      },
      "execution_count": null,
      "outputs": []
    },
    {
      "cell_type": "code",
      "source": [
        "mini(87,67)"
      ],
      "metadata": {
        "colab": {
          "base_uri": "https://localhost:8080/"
        },
        "id": "C5CS9jSwHvTQ",
        "outputId": "9b78ff3a-0f60-4c09-977a-6d18728dd767"
      },
      "execution_count": null,
      "outputs": [
        {
          "output_type": "execute_result",
          "data": {
            "text/plain": [
              "67"
            ]
          },
          "metadata": {},
          "execution_count": 21
        }
      ]
    },
    {
      "cell_type": "code",
      "source": [
        "ans = map(lambda a: 2*a, [3, 5])\n",
        "\n",
        "\n",
        "#print(type(ans))\n",
        "\n",
        "print(list(ans))"
      ],
      "metadata": {
        "colab": {
          "base_uri": "https://localhost:8080/"
        },
        "id": "Tlt-HplOH310",
        "outputId": "6789e094-92b7-4328-9e0c-78880ca7c0c0"
      },
      "execution_count": null,
      "outputs": [
        {
          "output_type": "stream",
          "name": "stdout",
          "text": [
            "[6, 10]\n"
          ]
        }
      ]
    },
    {
      "cell_type": "markdown",
      "source": [
        "the map function applies the lambda function to every element in the iterable one by one, and at the end, an iterator is returned. Here, the type of returned list is <class 'map'>."
      ],
      "metadata": {
        "id": "gw5ZPneyIIk0"
      }
    },
    {
      "cell_type": "code",
      "source": [],
      "metadata": {
        "id": "UnWleDv3IJbj"
      },
      "execution_count": null,
      "outputs": []
    }
  ]
}